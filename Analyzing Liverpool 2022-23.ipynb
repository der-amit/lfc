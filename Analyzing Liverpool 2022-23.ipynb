{
 "cells": [
  {
   "cell_type": "code",
   "execution_count": 148,
   "id": "5452584e-9295-4d29-8f71-849f496d4102",
   "metadata": {},
   "outputs": [],
   "source": [
    "import pandas as pd\n",
    "import matplotlib.pyplot as plt"
   ]
  },
  {
   "cell_type": "code",
   "execution_count": 149,
   "id": "9cfe68ea-9322-408d-ae65-1b714daebd96",
   "metadata": {},
   "outputs": [],
   "source": [
    "mydata = pd.read_excel(\"/Users/amitmishra/Desktop/proj/liverpool 2022-23 defence.xlsx\")"
   ]
  },
  {
   "cell_type": "code",
   "execution_count": 150,
   "id": "a1098590-73e2-4c13-819c-9f6d4bc02d0a",
   "metadata": {},
   "outputs": [
    {
     "data": {
      "text/html": [
       "<div>\n",
       "<style scoped>\n",
       "    .dataframe tbody tr th:only-of-type {\n",
       "        vertical-align: middle;\n",
       "    }\n",
       "\n",
       "    .dataframe tbody tr th {\n",
       "        vertical-align: top;\n",
       "    }\n",
       "\n",
       "    .dataframe thead th {\n",
       "        text-align: right;\n",
       "    }\n",
       "</style>\n",
       "<table border=\"1\" class=\"dataframe\">\n",
       "  <thead>\n",
       "    <tr style=\"text-align: right;\">\n",
       "      <th></th>\n",
       "      <th>Date</th>\n",
       "      <th>Time</th>\n",
       "      <th>Comp</th>\n",
       "      <th>Round</th>\n",
       "      <th>Day</th>\n",
       "      <th>Venue</th>\n",
       "      <th>Result</th>\n",
       "      <th>GF</th>\n",
       "      <th>GA</th>\n",
       "      <th>Opponent</th>\n",
       "      <th>...</th>\n",
       "      <th>Int</th>\n",
       "      <th>Tkl+Int</th>\n",
       "      <th>Clr</th>\n",
       "      <th>Err</th>\n",
       "      <th>GCA</th>\n",
       "      <th>SCA</th>\n",
       "      <th>TouchesDef</th>\n",
       "      <th>TouchesMid</th>\n",
       "      <th>TouchesAtt</th>\n",
       "      <th>TouchesPen</th>\n",
       "    </tr>\n",
       "  </thead>\n",
       "  <tbody>\n",
       "    <tr>\n",
       "      <th>0</th>\n",
       "      <td>2022-07-30</td>\n",
       "      <td>17:00 (11:00)</td>\n",
       "      <td>Community Shield</td>\n",
       "      <td>FA Community Shield</td>\n",
       "      <td>Sat</td>\n",
       "      <td>Neutral</td>\n",
       "      <td>W</td>\n",
       "      <td>3</td>\n",
       "      <td>1</td>\n",
       "      <td>Manchester City</td>\n",
       "      <td>...</td>\n",
       "      <td>8</td>\n",
       "      <td>0</td>\n",
       "      <td>NaN</td>\n",
       "      <td>NaN</td>\n",
       "      <td>NaN</td>\n",
       "      <td>NaN</td>\n",
       "      <td>NaN</td>\n",
       "      <td>NaN</td>\n",
       "      <td>NaN</td>\n",
       "      <td>NaN</td>\n",
       "    </tr>\n",
       "    <tr>\n",
       "      <th>1</th>\n",
       "      <td>2022-08-06</td>\n",
       "      <td>12:30 (06:30)</td>\n",
       "      <td>Premier League</td>\n",
       "      <td>Matchweek 1</td>\n",
       "      <td>Sat</td>\n",
       "      <td>Away</td>\n",
       "      <td>D</td>\n",
       "      <td>2</td>\n",
       "      <td>2</td>\n",
       "      <td>Fulham</td>\n",
       "      <td>...</td>\n",
       "      <td>10</td>\n",
       "      <td>21</td>\n",
       "      <td>16.0</td>\n",
       "      <td>0.0</td>\n",
       "      <td>4.0</td>\n",
       "      <td>20.0</td>\n",
       "      <td>260.0</td>\n",
       "      <td>349.0</td>\n",
       "      <td>179.0</td>\n",
       "      <td>33.0</td>\n",
       "    </tr>\n",
       "    <tr>\n",
       "      <th>2</th>\n",
       "      <td>2022-08-15</td>\n",
       "      <td>20:00 (14:00)</td>\n",
       "      <td>Premier League</td>\n",
       "      <td>Matchweek 2</td>\n",
       "      <td>Mon</td>\n",
       "      <td>Home</td>\n",
       "      <td>D</td>\n",
       "      <td>1</td>\n",
       "      <td>1</td>\n",
       "      <td>Crystal Palace</td>\n",
       "      <td>...</td>\n",
       "      <td>13</td>\n",
       "      <td>33</td>\n",
       "      <td>9.0</td>\n",
       "      <td>0.0</td>\n",
       "      <td>2.0</td>\n",
       "      <td>45.0</td>\n",
       "      <td>147.0</td>\n",
       "      <td>527.0</td>\n",
       "      <td>244.0</td>\n",
       "      <td>42.0</td>\n",
       "    </tr>\n",
       "  </tbody>\n",
       "</table>\n",
       "<p>3 rows × 32 columns</p>\n",
       "</div>"
      ],
      "text/plain": [
       "        Date           Time              Comp                Round  Day  \\\n",
       "0 2022-07-30  17:00 (11:00)  Community Shield  FA Community Shield  Sat   \n",
       "1 2022-08-06  12:30 (06:30)    Premier League          Matchweek 1  Sat   \n",
       "2 2022-08-15  20:00 (14:00)    Premier League          Matchweek 2  Mon   \n",
       "\n",
       "     Venue Result GF GA         Opponent  ...  Int  Tkl+Int   Clr  Err  GCA  \\\n",
       "0  Neutral      W  3  1  Manchester City  ...    8        0   NaN  NaN  NaN   \n",
       "1     Away      D  2  2           Fulham  ...   10       21  16.0  0.0  4.0   \n",
       "2     Home      D  1  1   Crystal Palace  ...   13       33   9.0  0.0  2.0   \n",
       "\n",
       "    SCA  TouchesDef  TouchesMid  TouchesAtt  TouchesPen  \n",
       "0   NaN         NaN         NaN         NaN         NaN  \n",
       "1  20.0       260.0       349.0       179.0        33.0  \n",
       "2  45.0       147.0       527.0       244.0        42.0  \n",
       "\n",
       "[3 rows x 32 columns]"
      ]
     },
     "execution_count": 150,
     "metadata": {},
     "output_type": "execute_result"
    }
   ],
   "source": [
    "mydata.head(3)"
   ]
  },
  {
   "cell_type": "code",
   "execution_count": 151,
   "id": "9c4461d7-fc16-4f72-a275-6e3c0c547111",
   "metadata": {
    "tags": []
   },
   "outputs": [
    {
     "data": {
      "text/plain": [
       "Date          0\n",
       "Time          0\n",
       "Comp          0\n",
       "Round         0\n",
       "Day           0\n",
       "Venue         0\n",
       "Result        0\n",
       "GF            0\n",
       "GA            0\n",
       "Opponent      0\n",
       "Tkl           6\n",
       "TklW          0\n",
       "Def 3rd       6\n",
       "Mid 3rd       6\n",
       "Att 3rd       6\n",
       "Tkl.1         6\n",
       "Att           6\n",
       "Tkl%          6\n",
       "Lost          6\n",
       "Blocks        6\n",
       "Sh            6\n",
       "Pass          6\n",
       "Int           0\n",
       "Tkl+Int       0\n",
       "Clr           6\n",
       "Err           6\n",
       "GCA           6\n",
       "SCA           6\n",
       "TouchesDef    6\n",
       "TouchesMid    6\n",
       "TouchesAtt    6\n",
       "TouchesPen    6\n",
       "dtype: int64"
      ]
     },
     "execution_count": 151,
     "metadata": {},
     "output_type": "execute_result"
    }
   ],
   "source": [
    "mydata.isna().sum()"
   ]
  },
  {
   "cell_type": "markdown",
   "id": "66503b0b-f764-48c0-9108-e1daa8417065",
   "metadata": {},
   "source": [
    "### In the absence of data from some competitions, let's drop the entire row with any null values"
   ]
  },
  {
   "cell_type": "code",
   "execution_count": 152,
   "id": "b68517b9-3219-497e-9a65-4d4037caff0f",
   "metadata": {},
   "outputs": [],
   "source": [
    "cleaned_data = mydata.dropna()"
   ]
  },
  {
   "cell_type": "code",
   "execution_count": 156,
   "id": "c245cbf2-200e-4d2a-af2b-1af960a09b4a",
   "metadata": {},
   "outputs": [
    {
     "data": {
      "text/plain": [
       "Date          0\n",
       "Time          0\n",
       "Comp          0\n",
       "Round         0\n",
       "Day           0\n",
       "Venue         0\n",
       "Result        0\n",
       "GF            0\n",
       "GA            0\n",
       "Opponent      0\n",
       "Tkl           0\n",
       "TklW          0\n",
       "Def 3rd       0\n",
       "Mid 3rd       0\n",
       "Att 3rd       0\n",
       "Tkl.1         0\n",
       "Att           0\n",
       "Tkl%          0\n",
       "Lost          0\n",
       "Blocks        0\n",
       "Sh            0\n",
       "Pass          0\n",
       "Int           0\n",
       "Tkl+Int       0\n",
       "Clr           0\n",
       "Err           0\n",
       "GCA           0\n",
       "SCA           0\n",
       "TouchesDef    0\n",
       "TouchesMid    0\n",
       "TouchesAtt    0\n",
       "TouchesPen    0\n",
       "dtype: int64"
      ]
     },
     "execution_count": 156,
     "metadata": {},
     "output_type": "execute_result"
    }
   ],
   "source": [
    "cleaned_data.isna().sum()"
   ]
  },
  {
   "cell_type": "code",
   "execution_count": 157,
   "id": "130a4b7c-3b10-4bcd-a932-61713e2cf50f",
   "metadata": {},
   "outputs": [
    {
     "name": "stdout",
     "output_type": "stream",
     "text": [
      "['Date', 'Time', 'Comp', 'Round', 'Day', 'Venue', 'Result', 'GF', 'GA', 'Opponent', 'Tkl', 'TklW', 'Def 3rd', 'Mid 3rd', 'Att 3rd', 'Tkl.1', 'Att', 'Tkl%', 'Lost', 'Blocks', 'Sh', 'Pass', 'Int', 'Tkl+Int', 'Clr', 'Err', 'GCA', 'SCA', 'TouchesDef', 'TouchesMid', 'TouchesAtt', 'TouchesPen']\n"
     ]
    }
   ],
   "source": [
    "print(cleaned_data.columns.tolist())"
   ]
  },
  {
   "cell_type": "code",
   "execution_count": 158,
   "id": "6db74c7c-de5c-4a04-ba72-68fa9012e07b",
   "metadata": {},
   "outputs": [],
   "source": [
    "cleaned_data = mydata.rename(columns = {'Def 3rd':'TklDef', 'Mid 3rd':'TklMid', 'Att 3rd':'TklAtt','Sh':'ShotBlocked', 'Pass':'PassBlocked'})"
   ]
  },
  {
   "cell_type": "code",
   "execution_count": 159,
   "id": "f4b01bda-06a5-4d93-8626-245416ec9f16",
   "metadata": {},
   "outputs": [
    {
     "data": {
      "text/plain": [
       "Index(['Date', 'Time', 'Comp', 'Round', 'Day', 'Venue', 'Result', 'GF', 'GA',\n",
       "       'Opponent', 'Tkl', 'TklW', 'TklDef', 'TklMid', 'TklAtt', 'Tkl.1', 'Att',\n",
       "       'Tkl%', 'Lost', 'Blocks', 'ShotBlocked', 'PassBlocked', 'Int',\n",
       "       'Tkl+Int', 'Clr', 'Err', 'GCA', 'SCA', 'TouchesDef', 'TouchesMid',\n",
       "       'TouchesAtt', 'TouchesPen'],\n",
       "      dtype='object')"
      ]
     },
     "execution_count": 159,
     "metadata": {},
     "output_type": "execute_result"
    }
   ],
   "source": [
    "cleaned_data.columns"
   ]
  },
  {
   "cell_type": "code",
   "execution_count": 93,
   "id": "13c49a06-38a1-42f7-b79d-9467ce0adf51",
   "metadata": {},
   "outputs": [],
   "source": [
    "mycols = ['GA','TklDef', 'TklMid', 'TklAtt','ShotBlocked', 'PassBlocked','Clr']"
   ]
  },
  {
   "cell_type": "code",
   "execution_count": 160,
   "id": "244592e9-eb1b-48ef-a991-9915b0c24ffe",
   "metadata": {},
   "outputs": [],
   "source": [
    "colsattack = ['GF','GCA', 'SCA', 'TouchesDef', 'TouchesMid','TouchesAtt', 'TouchesPen']"
   ]
  },
  {
   "cell_type": "code",
   "execution_count": 94,
   "id": "b46cb187-15e1-45d1-b3ae-4021e20fd6f1",
   "metadata": {},
   "outputs": [],
   "source": [
    "df = cleaned_data[mycols]"
   ]
  },
  {
   "cell_type": "code",
   "execution_count": 95,
   "id": "587e5216-75cc-43b2-92ab-d688f5e13d2e",
   "metadata": {},
   "outputs": [
    {
     "data": {
      "text/plain": [
       "GA             0\n",
       "TklDef         0\n",
       "TklMid         0\n",
       "TklAtt         0\n",
       "ShotBlocked    0\n",
       "PassBlocked    0\n",
       "Clr            0\n",
       "dtype: int64"
      ]
     },
     "execution_count": 95,
     "metadata": {},
     "output_type": "execute_result"
    }
   ],
   "source": [
    "df.isna().sum()"
   ]
  },
  {
   "cell_type": "code",
   "execution_count": 96,
   "id": "4ae38ccf-816a-4088-ad70-b222114c0811",
   "metadata": {},
   "outputs": [],
   "source": [
    "df = pd.DataFrame(df)"
   ]
  },
  {
   "cell_type": "code",
   "execution_count": 97,
   "id": "b1187b4b-9d7a-46a5-ba8c-09530372e742",
   "metadata": {},
   "outputs": [],
   "source": [
    "from sklearn.model_selection import train_test_split\n",
    "from sklearn.linear_model import LinearRegression"
   ]
  },
  {
   "cell_type": "code",
   "execution_count": 117,
   "id": "005d4077-732c-4fb7-809e-c440044d933a",
   "metadata": {},
   "outputs": [],
   "source": [
    "X = df[['TklDef', 'TklMid', 'TklAtt','ShotBlocked','Clr']]"
   ]
  },
  {
   "cell_type": "code",
   "execution_count": 118,
   "id": "a4ff770e-9fc7-4125-94eb-750d18754706",
   "metadata": {},
   "outputs": [],
   "source": [
    "y = df['GA']"
   ]
  },
  {
   "cell_type": "code",
   "execution_count": 100,
   "id": "5540163f-eff6-4fbc-900a-65d44e82b10e",
   "metadata": {},
   "outputs": [],
   "source": [
    "X_train, X_test, y_train, y_test = train_test_split(X,y, test_size = 0.3, random_state = 42)"
   ]
  },
  {
   "cell_type": "code",
   "execution_count": 101,
   "id": "764f041a-f14f-402f-b2da-777da6c6bbc1",
   "metadata": {},
   "outputs": [],
   "source": [
    "model_reg = LinearRegression()"
   ]
  },
  {
   "cell_type": "code",
   "execution_count": 102,
   "id": "546b512c-f567-4b18-8b95-30f903e093f3",
   "metadata": {},
   "outputs": [
    {
     "data": {
      "text/plain": [
       "LinearRegression()"
      ]
     },
     "execution_count": 102,
     "metadata": {},
     "output_type": "execute_result"
    }
   ],
   "source": [
    "model_reg.fit(X_train,y_train)"
   ]
  },
  {
   "cell_type": "code",
   "execution_count": 103,
   "id": "5744c81e-5012-4265-bc62-3a760fa7319f",
   "metadata": {},
   "outputs": [],
   "source": [
    "y_pred = model_reg.predict(X_test)"
   ]
  },
  {
   "cell_type": "code",
   "execution_count": 108,
   "id": "62064bc2-e2f6-4a0a-922f-e62308499b4c",
   "metadata": {},
   "outputs": [],
   "source": [
    "import statsmodels.api as smf"
   ]
  },
  {
   "cell_type": "code",
   "execution_count": 123,
   "id": "341f2de5-bdeb-41c6-bd49-213085a2e5a8",
   "metadata": {},
   "outputs": [
    {
     "data": {
      "text/html": [
       "<div>\n",
       "<style scoped>\n",
       "    .dataframe tbody tr th:only-of-type {\n",
       "        vertical-align: middle;\n",
       "    }\n",
       "\n",
       "    .dataframe tbody tr th {\n",
       "        vertical-align: top;\n",
       "    }\n",
       "\n",
       "    .dataframe thead th {\n",
       "        text-align: right;\n",
       "    }\n",
       "</style>\n",
       "<table border=\"1\" class=\"dataframe\">\n",
       "  <thead>\n",
       "    <tr style=\"text-align: right;\">\n",
       "      <th></th>\n",
       "      <th>GA</th>\n",
       "      <th>TklDef</th>\n",
       "      <th>TklMid</th>\n",
       "      <th>TklAtt</th>\n",
       "      <th>ShotBlocked</th>\n",
       "      <th>PassBlocked</th>\n",
       "      <th>Clr</th>\n",
       "    </tr>\n",
       "  </thead>\n",
       "  <tbody>\n",
       "    <tr>\n",
       "      <th>GA</th>\n",
       "      <td>1.000000</td>\n",
       "      <td>-0.184648</td>\n",
       "      <td>0.109749</td>\n",
       "      <td>0.119957</td>\n",
       "      <td>0.025374</td>\n",
       "      <td>-0.070865</td>\n",
       "      <td>-0.197161</td>\n",
       "    </tr>\n",
       "    <tr>\n",
       "      <th>TklDef</th>\n",
       "      <td>-0.184648</td>\n",
       "      <td>1.000000</td>\n",
       "      <td>0.011200</td>\n",
       "      <td>-0.295435</td>\n",
       "      <td>0.384433</td>\n",
       "      <td>0.242269</td>\n",
       "      <td>0.284121</td>\n",
       "    </tr>\n",
       "    <tr>\n",
       "      <th>TklMid</th>\n",
       "      <td>0.109749</td>\n",
       "      <td>0.011200</td>\n",
       "      <td>1.000000</td>\n",
       "      <td>0.035853</td>\n",
       "      <td>-0.087302</td>\n",
       "      <td>0.009313</td>\n",
       "      <td>-0.189122</td>\n",
       "    </tr>\n",
       "    <tr>\n",
       "      <th>TklAtt</th>\n",
       "      <td>0.119957</td>\n",
       "      <td>-0.295435</td>\n",
       "      <td>0.035853</td>\n",
       "      <td>1.000000</td>\n",
       "      <td>-0.398513</td>\n",
       "      <td>-0.119743</td>\n",
       "      <td>-0.281631</td>\n",
       "    </tr>\n",
       "    <tr>\n",
       "      <th>ShotBlocked</th>\n",
       "      <td>0.025374</td>\n",
       "      <td>0.384433</td>\n",
       "      <td>-0.087302</td>\n",
       "      <td>-0.398513</td>\n",
       "      <td>1.000000</td>\n",
       "      <td>0.110746</td>\n",
       "      <td>0.405043</td>\n",
       "    </tr>\n",
       "    <tr>\n",
       "      <th>PassBlocked</th>\n",
       "      <td>-0.070865</td>\n",
       "      <td>0.242269</td>\n",
       "      <td>0.009313</td>\n",
       "      <td>-0.119743</td>\n",
       "      <td>0.110746</td>\n",
       "      <td>1.000000</td>\n",
       "      <td>-0.048640</td>\n",
       "    </tr>\n",
       "    <tr>\n",
       "      <th>Clr</th>\n",
       "      <td>-0.197161</td>\n",
       "      <td>0.284121</td>\n",
       "      <td>-0.189122</td>\n",
       "      <td>-0.281631</td>\n",
       "      <td>0.405043</td>\n",
       "      <td>-0.048640</td>\n",
       "      <td>1.000000</td>\n",
       "    </tr>\n",
       "  </tbody>\n",
       "</table>\n",
       "</div>"
      ],
      "text/plain": [
       "                   GA    TklDef    TklMid    TklAtt  ShotBlocked  PassBlocked  \\\n",
       "GA           1.000000 -0.184648  0.109749  0.119957     0.025374    -0.070865   \n",
       "TklDef      -0.184648  1.000000  0.011200 -0.295435     0.384433     0.242269   \n",
       "TklMid       0.109749  0.011200  1.000000  0.035853    -0.087302     0.009313   \n",
       "TklAtt       0.119957 -0.295435  0.035853  1.000000    -0.398513    -0.119743   \n",
       "ShotBlocked  0.025374  0.384433 -0.087302 -0.398513     1.000000     0.110746   \n",
       "PassBlocked -0.070865  0.242269  0.009313 -0.119743     0.110746     1.000000   \n",
       "Clr         -0.197161  0.284121 -0.189122 -0.281631     0.405043    -0.048640   \n",
       "\n",
       "                  Clr  \n",
       "GA          -0.197161  \n",
       "TklDef       0.284121  \n",
       "TklMid      -0.189122  \n",
       "TklAtt      -0.281631  \n",
       "ShotBlocked  0.405043  \n",
       "PassBlocked -0.048640  \n",
       "Clr          1.000000  "
      ]
     },
     "execution_count": 123,
     "metadata": {},
     "output_type": "execute_result"
    }
   ],
   "source": [
    "df.corr()"
   ]
  },
  {
   "cell_type": "code",
   "execution_count": 113,
   "id": "80f173a5-06ee-454b-9d2f-23f3a5c33cad",
   "metadata": {},
   "outputs": [],
   "source": [
    "# Assuming df is your DataFrame and 'column_name' is the column you want to convert\n",
    "df[mycols] = df[mycols].astype(int)"
   ]
  },
  {
   "cell_type": "code",
   "execution_count": 119,
   "id": "cbd1d5ff-a25c-4a32-ae48-c87920a589c5",
   "metadata": {},
   "outputs": [],
   "source": [
    "X = smf.add_constant(X)"
   ]
  },
  {
   "cell_type": "code",
   "execution_count": 120,
   "id": "8649c8c5-914c-4cba-b01d-a9b9fdb971f8",
   "metadata": {},
   "outputs": [],
   "source": [
    "X_train, X_test, y_train, y_test = train_test_split(X,y, test_size = 0.3, random_state = 42)"
   ]
  },
  {
   "cell_type": "code",
   "execution_count": 121,
   "id": "6127a43b-e514-4f11-a087-5fe623f9c622",
   "metadata": {},
   "outputs": [],
   "source": [
    "model = smf.OLS(y_train,X_train).fit()"
   ]
  },
  {
   "cell_type": "code",
   "execution_count": 124,
   "id": "a7bc609b-f6e6-4615-a2a7-8f5fb15207f9",
   "metadata": {},
   "outputs": [
    {
     "name": "stdout",
     "output_type": "stream",
     "text": [
      "                            OLS Regression Results                            \n",
      "==============================================================================\n",
      "Dep. Variable:                     GA   R-squared:                       0.233\n",
      "Model:                            OLS   Adj. R-squared:                  0.086\n",
      "Method:                 Least Squares   F-statistic:                     1.584\n",
      "Date:                Mon, 27 Nov 2023   Prob (F-statistic):              0.200\n",
      "Time:                        01:37:20   Log-Likelihood:                -51.604\n",
      "No. Observations:                  32   AIC:                             115.2\n",
      "Df Residuals:                      26   BIC:                             124.0\n",
      "Df Model:                           5                                         \n",
      "Covariance Type:            nonrobust                                         \n",
      "===============================================================================\n",
      "                  coef    std err          t      P>|t|      [0.025      0.975]\n",
      "-------------------------------------------------------------------------------\n",
      "const          -0.4169      1.585     -0.263      0.795      -3.676       2.842\n",
      "TklDef         -0.1108      0.081     -1.370      0.182      -0.277       0.055\n",
      "TklMid          0.1189      0.120      0.995      0.329      -0.127       0.365\n",
      "TklAtt          0.2885      0.151      1.905      0.068      -0.023       0.600\n",
      "ShotBlocked     0.3737      0.201      1.858      0.075      -0.040       0.787\n",
      "Clr             0.0107      0.045      0.241      0.812      -0.081       0.103\n",
      "==============================================================================\n",
      "Omnibus:                        1.346   Durbin-Watson:                   1.440\n",
      "Prob(Omnibus):                  0.510   Jarque-Bera (JB):                1.293\n",
      "Skew:                           0.413   Prob(JB):                        0.524\n",
      "Kurtosis:                       2.463   Cond. No.                         122.\n",
      "==============================================================================\n",
      "\n",
      "Notes:\n",
      "[1] Standard Errors assume that the covariance matrix of the errors is correctly specified.\n"
     ]
    }
   ],
   "source": [
    "print(model.summary())"
   ]
  },
  {
   "cell_type": "code",
   "execution_count": null,
   "id": "f17d9829-9d61-4398-884d-ff761d95032e",
   "metadata": {},
   "outputs": [],
   "source": [
    "#Takeaways"
   ]
  },
  {
   "cell_type": "markdown",
   "id": "8dfd85c9-698d-439b-87e4-3180d6104769",
   "metadata": {},
   "source": [
    "## Tackles in the defensive third: \n",
    "\n",
    "#### The coefficient for TklDef (Tackles in the defensive third) is -0.1108. Holding other variables constant, a one-unit increase in TklDef is associated with a decrease of 0.1108 units in goals conceded. \n",
    "\n",
    "#### Generally, this would indicate a good number of tackles in the defensive third is valuable the team. Liverpool in particular are a transition based team, so their ability to get the ball moving forward after making a tackle in the defensive third might be hinted by this statistic.\n",
    "\n",
    "## Clearances:\n",
    "\n",
    "#### The coefficient for Clr (clearances) is 0.0107. Holding other variables constant, a one-unit increase in Clr is associated with an increase of 0.0107 units in goals conceded. \n",
    "\n",
    "#### For a team that doesn’t like to clear the ball away and work on making their way to the front when they do win the ball, it makes sense that the higher the number of clearances, the more likely that they will concede. \n",
    "\n",
    "\n"
   ]
  },
  {
   "cell_type": "markdown",
   "id": "773f90bd-a4bf-4de6-b638-e3bec9cc480e",
   "metadata": {},
   "source": [
    "## A model to draw correlation between the touches in the different areas and chances"
   ]
  },
  {
   "cell_type": "code",
   "execution_count": 161,
   "id": "f10b2f7f-22c7-4dd2-b69b-3c39467d8915",
   "metadata": {},
   "outputs": [
    {
     "data": {
      "text/plain": [
       "['GF', 'GCA', 'SCA', 'TouchesDef', 'TouchesMid', 'TouchesAtt', 'TouchesPen']"
      ]
     },
     "execution_count": 161,
     "metadata": {},
     "output_type": "execute_result"
    }
   ],
   "source": [
    "colsattack"
   ]
  },
  {
   "cell_type": "code",
   "execution_count": 162,
   "id": "02552129-7f98-4992-adb2-7b079fc5431d",
   "metadata": {},
   "outputs": [],
   "source": [
    "df1 = cleaned_data[colsattack]"
   ]
  },
  {
   "cell_type": "code",
   "execution_count": 163,
   "id": "e2cbca4f-efb8-46ee-bdeb-69a92f268867",
   "metadata": {},
   "outputs": [],
   "source": [
    "df1 = pd.DataFrame(df1)"
   ]
  },
  {
   "cell_type": "code",
   "execution_count": 164,
   "id": "ef754538-0038-42ff-af47-b0eb50efdfe1",
   "metadata": {},
   "outputs": [
    {
     "name": "stdout",
     "output_type": "stream",
     "text": [
      "<class 'pandas.core.frame.DataFrame'>\n",
      "RangeIndex: 52 entries, 0 to 51\n",
      "Data columns (total 7 columns):\n",
      " #   Column      Non-Null Count  Dtype  \n",
      "---  ------      --------------  -----  \n",
      " 0   GF          52 non-null     object \n",
      " 1   GCA         46 non-null     float64\n",
      " 2   SCA         46 non-null     float64\n",
      " 3   TouchesDef  46 non-null     float64\n",
      " 4   TouchesMid  46 non-null     float64\n",
      " 5   TouchesAtt  46 non-null     float64\n",
      " 6   TouchesPen  46 non-null     float64\n",
      "dtypes: float64(6), object(1)\n",
      "memory usage: 3.0+ KB\n"
     ]
    }
   ],
   "source": [
    "df1.info()"
   ]
  },
  {
   "cell_type": "code",
   "execution_count": 166,
   "id": "063e7aa0-9c7d-4c3d-9fd5-cde481899bb0",
   "metadata": {},
   "outputs": [
    {
     "data": {
      "text/html": [
       "<div>\n",
       "<style scoped>\n",
       "    .dataframe tbody tr th:only-of-type {\n",
       "        vertical-align: middle;\n",
       "    }\n",
       "\n",
       "    .dataframe tbody tr th {\n",
       "        vertical-align: top;\n",
       "    }\n",
       "\n",
       "    .dataframe thead th {\n",
       "        text-align: right;\n",
       "    }\n",
       "</style>\n",
       "<table border=\"1\" class=\"dataframe\">\n",
       "  <thead>\n",
       "    <tr style=\"text-align: right;\">\n",
       "      <th></th>\n",
       "      <th>GF</th>\n",
       "      <th>GCA</th>\n",
       "      <th>SCA</th>\n",
       "      <th>TouchesDef</th>\n",
       "      <th>TouchesMid</th>\n",
       "      <th>TouchesAtt</th>\n",
       "      <th>TouchesPen</th>\n",
       "    </tr>\n",
       "  </thead>\n",
       "  <tbody>\n",
       "    <tr>\n",
       "      <th>0</th>\n",
       "      <td>3</td>\n",
       "      <td>NaN</td>\n",
       "      <td>NaN</td>\n",
       "      <td>NaN</td>\n",
       "      <td>NaN</td>\n",
       "      <td>NaN</td>\n",
       "      <td>NaN</td>\n",
       "    </tr>\n",
       "    <tr>\n",
       "      <th>1</th>\n",
       "      <td>2</td>\n",
       "      <td>4.0</td>\n",
       "      <td>20.0</td>\n",
       "      <td>260.0</td>\n",
       "      <td>349.0</td>\n",
       "      <td>179.0</td>\n",
       "      <td>33.0</td>\n",
       "    </tr>\n",
       "    <tr>\n",
       "      <th>2</th>\n",
       "      <td>1</td>\n",
       "      <td>2.0</td>\n",
       "      <td>45.0</td>\n",
       "      <td>147.0</td>\n",
       "      <td>527.0</td>\n",
       "      <td>244.0</td>\n",
       "      <td>42.0</td>\n",
       "    </tr>\n",
       "  </tbody>\n",
       "</table>\n",
       "</div>"
      ],
      "text/plain": [
       "  GF  GCA   SCA  TouchesDef  TouchesMid  TouchesAtt  TouchesPen\n",
       "0  3  NaN   NaN         NaN         NaN         NaN         NaN\n",
       "1  2  4.0  20.0       260.0       349.0       179.0        33.0\n",
       "2  1  2.0  45.0       147.0       527.0       244.0        42.0"
      ]
     },
     "execution_count": 166,
     "metadata": {},
     "output_type": "execute_result"
    }
   ],
   "source": [
    "df1.head(3)"
   ]
  },
  {
   "cell_type": "code",
   "execution_count": 170,
   "id": "365d8308-cb71-4a63-b0e1-5893b567c58b",
   "metadata": {},
   "outputs": [],
   "source": [
    "df1 = df1.dropna()"
   ]
  },
  {
   "cell_type": "code",
   "execution_count": 172,
   "id": "334e2b24-f636-48f3-bbdd-7c0ed07b1cfd",
   "metadata": {},
   "outputs": [
    {
     "name": "stderr",
     "output_type": "stream",
     "text": [
      "/var/folders/85/d_fv83j92kq22pp6q4hcdzmh0000gp/T/ipykernel_97578/3911405020.py:1: SettingWithCopyWarning: \n",
      "A value is trying to be set on a copy of a slice from a DataFrame.\n",
      "Try using .loc[row_indexer,col_indexer] = value instead\n",
      "\n",
      "See the caveats in the documentation: https://pandas.pydata.org/pandas-docs/stable/user_guide/indexing.html#returning-a-view-versus-a-copy\n",
      "  df1[colsattack] = df1[colsattack].astype(int)\n"
     ]
    }
   ],
   "source": [
    "df1[colsattack] = df1[colsattack].astype(int)"
   ]
  },
  {
   "cell_type": "code",
   "execution_count": 173,
   "id": "f5c74ff2-25ca-4438-8e2b-b3c1b38f7623",
   "metadata": {},
   "outputs": [
    {
     "name": "stdout",
     "output_type": "stream",
     "text": [
      "<class 'pandas.core.frame.DataFrame'>\n",
      "Int64Index: 46 entries, 1 to 51\n",
      "Data columns (total 7 columns):\n",
      " #   Column      Non-Null Count  Dtype\n",
      "---  ------      --------------  -----\n",
      " 0   GF          46 non-null     int64\n",
      " 1   GCA         46 non-null     int64\n",
      " 2   SCA         46 non-null     int64\n",
      " 3   TouchesDef  46 non-null     int64\n",
      " 4   TouchesMid  46 non-null     int64\n",
      " 5   TouchesAtt  46 non-null     int64\n",
      " 6   TouchesPen  46 non-null     int64\n",
      "dtypes: int64(7)\n",
      "memory usage: 2.9 KB\n"
     ]
    }
   ],
   "source": [
    "df1.info()"
   ]
  },
  {
   "cell_type": "code",
   "execution_count": 178,
   "id": "ff466c3b-e6e3-44f8-b94f-00e030279142",
   "metadata": {},
   "outputs": [],
   "source": [
    "y1 = df1[\"GCA\"]"
   ]
  },
  {
   "cell_type": "code",
   "execution_count": 179,
   "id": "73a26d90-a5dc-40d4-b8f8-db7f4cbb6963",
   "metadata": {},
   "outputs": [],
   "source": [
    "x1 = df1[['SCA', 'TouchesDef', 'TouchesMid', 'TouchesAtt', 'TouchesPen']]"
   ]
  },
  {
   "cell_type": "code",
   "execution_count": 180,
   "id": "0f45ede0-78ba-4522-8a48-84ebefe16486",
   "metadata": {},
   "outputs": [],
   "source": [
    "model2 = sm.OLS(y1,x1).fit()"
   ]
  },
  {
   "cell_type": "code",
   "execution_count": 182,
   "id": "ebf813d7-d201-45f0-964c-678f27149306",
   "metadata": {},
   "outputs": [
    {
     "name": "stdout",
     "output_type": "stream",
     "text": [
      "                                 OLS Regression Results                                \n",
      "=======================================================================================\n",
      "Dep. Variable:                    GCA   R-squared (uncentered):                   0.646\n",
      "Model:                            OLS   Adj. R-squared (uncentered):              0.603\n",
      "Method:                 Least Squares   F-statistic:                              14.96\n",
      "Date:                Mon, 27 Nov 2023   Prob (F-statistic):                    2.34e-08\n",
      "Time:                        22:16:40   Log-Likelihood:                         -114.36\n",
      "No. Observations:                  46   AIC:                                      238.7\n",
      "Df Residuals:                      41   BIC:                                      247.9\n",
      "Df Model:                           5                                                  \n",
      "Covariance Type:            nonrobust                                                  \n",
      "==============================================================================\n",
      "                 coef    std err          t      P>|t|      [0.025      0.975]\n",
      "------------------------------------------------------------------------------\n",
      "SCA            0.0423      0.068      0.617      0.540      -0.096       0.180\n",
      "TouchesDef    -0.0112      0.007     -1.671      0.102      -0.025       0.002\n",
      "TouchesMid     0.0292      0.008      3.734      0.001       0.013       0.045\n",
      "TouchesAtt    -0.0601      0.021     -2.918      0.006      -0.102      -0.018\n",
      "TouchesPen     0.1768      0.088      2.014      0.051      -0.001       0.354\n",
      "==============================================================================\n",
      "Omnibus:                       12.154   Durbin-Watson:                   2.049\n",
      "Prob(Omnibus):                  0.002   Jarque-Bera (JB):               13.367\n",
      "Skew:                           0.968   Prob(JB):                      0.00125\n",
      "Kurtosis:                       4.797   Cond. No.                         98.3\n",
      "==============================================================================\n",
      "\n",
      "Notes:\n",
      "[1] R² is computed without centering (uncentered) since the model does not contain a constant.\n",
      "[2] Standard Errors assume that the covariance matrix of the errors is correctly specified.\n"
     ]
    }
   ],
   "source": [
    "print(model2.summary())"
   ]
  },
  {
   "cell_type": "code",
   "execution_count": null,
   "id": "7d80de8a-715e-4da0-a9a3-39fa36684bb8",
   "metadata": {},
   "outputs": [],
   "source": [
    "#Takeaways"
   ]
  },
  {
   "cell_type": "markdown",
   "id": "e4cb4643-123f-4905-a781-2897d63ac62d",
   "metadata": {},
   "source": [
    "## Pinning Liverpool in their own half:\n",
    "\n",
    "#### -> The coefficient for TouchesDef is -0.0112. A one-unit increase in TouchesDef is associated with a decrease of 0.0112 units in GCA (Goal Creating Actions)..\n",
    "\n",
    "#### A fairly straight forward result as the more touches you make Liverpool take in their own half, the less likely they are to score, which is confirmed by the negative sign in TouchesDef.\n",
    "\n",
    "\n",
    "## Avoiding transitions against Liverpool is key:\n",
    "\n",
    "#### -> The coefficient for TouchesAtt is -0.0601. A one-unit increase in TouchesAtt is associated with a decrease of 0.0601 units in GCA.\n",
    "\n",
    "#### This suggests the more touches Liverpool take in the attacking third, the less likely they are to create a goal creating action. This possibly points out their reliance on being a transition heavy team, and as a opposition team, perhaps the best way to not concede is to avoid as many transitions as possible and get men behind the ball.\n",
    "\n",
    "## Defending in the box:\n",
    "\n",
    "#### -> The coefficient for TouchesPen is 0.1768. A one-unit increase in TouchesPen is associated with an increase of 0.1768 units in GCA.\n",
    "\n",
    "#### Inside the box, there’s a completely different story. He more touches Liverpool take in the box, the likelier it is to score. However, there Is likely to be a cutoff point that can be found using polynomial regression.\n",
    "\n",
    "\n"
   ]
  },
  {
   "cell_type": "code",
   "execution_count": null,
   "id": "854e25be-f131-4499-88dd-ff62d2875ab5",
   "metadata": {},
   "outputs": [],
   "source": []
  },
  {
   "cell_type": "code",
   "execution_count": null,
   "id": "a7a7d3ef-fdc2-4b3d-b8c6-326bc3d88a01",
   "metadata": {},
   "outputs": [],
   "source": []
  },
  {
   "cell_type": "code",
   "execution_count": null,
   "id": "81b0c186-25f8-4ac1-b847-c1462ba60780",
   "metadata": {},
   "outputs": [],
   "source": []
  },
  {
   "cell_type": "code",
   "execution_count": null,
   "id": "d31401cf-3ac9-471b-b65c-e4c9fce5f8cc",
   "metadata": {},
   "outputs": [],
   "source": []
  }
 ],
 "metadata": {
  "kernelspec": {
   "display_name": "Python 3 (ipykernel)",
   "language": "python",
   "name": "python3"
  },
  "language_info": {
   "codemirror_mode": {
    "name": "ipython",
    "version": 3
   },
   "file_extension": ".py",
   "mimetype": "text/x-python",
   "name": "python",
   "nbconvert_exporter": "python",
   "pygments_lexer": "ipython3",
   "version": "3.9.13"
  }
 },
 "nbformat": 4,
 "nbformat_minor": 5
}
